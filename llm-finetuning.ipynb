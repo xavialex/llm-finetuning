{
 "cells": [
  {
   "cell_type": "markdown",
   "metadata": {},
   "source": [
    "# Large Language Model (LLM) Finetuning\n",
    "\n",
    "This notebook contains code to evaluate an LLM on a subset of the [SQuAD dataset](https://huggingface.co/datasets/rajpurkar/squad) (Stanford Question Answering Dataset), fine-tune it on it and reevaluate to check model's performance. Along the way, we'll stop and explain several of the concepts involved across similar tasks."
   ]
  },
  {
   "cell_type": "markdown",
   "metadata": {},
   "source": [
    "## Problem Description\n",
    "\n",
    "The problem at hand is a subfield of Natural Language Processing (NLP) called Question Answering (QA). The goal is to, asking an LLM a question given some context, receive an appropriate answer included in the beforementioned context. "
   ]
  },
  {
   "cell_type": "code",
   "execution_count": 18,
   "metadata": {},
   "outputs": [],
   "source": [
    "from transformers import DistilBertForQuestionAnswering, DistilBertTokenizerFast, Trainer, TrainingArguments, pipeline\n",
    "from datasets import load_dataset\n",
    "import evaluate\n",
    "import Levenshtein"
   ]
  },
  {
   "cell_type": "markdown",
   "metadata": {},
   "source": [
    "## The Model\n",
    "\n",
    "Nowadays, LLMs are versatile enough to address this and many other problems through prompt engineering. Within this framework, engineers tweak their prompts in order to get the best possible results to their problems. However, generalist LLMs can become unfeasible to use depending on computational, budget and response time constraints. This is why, depending on the problem at hand, a more direct approach might be better fitting.  \n",
    "One personally recommended course of action is to first check the available models that aims to solve the problem of interest. The HuggingFace (HF) Hub is a well known initiative where to check many resources, including models and datasets. This way, it's easy to check the best models for a particular task.  \n",
    "Besides model comparison regarding purely evaluation metrics, other very important aspect of LLM deployment is its size. Many of them are traditionally large enough to prove themselves challenging to host. A useful tool might be the [Can you run it? LLM version](https://huggingface.co/spaces/Vokturz/can-it-run-llm) from HF. It allows the user to select a model, hardware, and the web will display if it's feasible or not to run it on 1 or more GPUs depending on quantization, training adequacy, etc.  \n",
    "For this particular project, which is meant to showcase how to perform fine-tuning and evaluations in a normal setup rather than finding the best possible solution, we'll start from [DistilBERT base model](https://huggingface.co/distilbert/distilbert-base-uncased) rather than already fine-tuned ones in the desired Dataset."
   ]
  },
  {
   "cell_type": "code",
   "execution_count": 2,
   "metadata": {},
   "outputs": [
    {
     "name": "stderr",
     "output_type": "stream",
     "text": [
      "Some weights of DistilBertForQuestionAnswering were not initialized from the model checkpoint at distilbert-base-uncased and are newly initialized: ['qa_outputs.bias', 'qa_outputs.weight']\n",
      "You should probably TRAIN this model on a down-stream task to be able to use it for predictions and inference.\n"
     ]
    }
   ],
   "source": [
    "model_name = \"distilbert-base-uncased\"\n",
    "model = DistilBertForQuestionAnswering.from_pretrained(model_name)\n",
    "tokenizer = DistilBertTokenizerFast.from_pretrained(model_name)"
   ]
  },
  {
   "cell_type": "markdown",
   "metadata": {},
   "source": [
    "## The Dataset\n",
    "\n",
    "The Dataset of interest is the Stanford Question Answering Dataset ([SQuAD](https://huggingface.co/datasets/rajpurkar/squad)). It comprehends a set of segments of text from Wikipedia (context) alongside questions and answers that can be found in the given context."
   ]
  },
  {
   "cell_type": "code",
   "execution_count": 3,
   "metadata": {},
   "outputs": [],
   "source": [
    "squad = load_dataset(\"squad\")"
   ]
  },
  {
   "cell_type": "markdown",
   "metadata": {},
   "source": [
    "### Dataset Preprocessing\n",
    "\n",
    "Usually, Deep Learning (FL) applications require some preprocessing to their inputs. In NLP, this may involve some text cleaning, tokenization (technique that depends on the model of choice), truncation handling, etc."
   ]
  },
  {
   "cell_type": "code",
   "execution_count": 4,
   "metadata": {},
   "outputs": [],
   "source": [
    "def preprocess_function(examples):\n",
    "    questions = [q.strip() for q in examples[\"question\"]]\n",
    "    inputs = tokenizer(\n",
    "        questions,\n",
    "        examples[\"context\"],\n",
    "        max_length=384,\n",
    "        truncation=\"only_second\",\n",
    "        return_offsets_mapping=True,\n",
    "        padding=\"max_length\",\n",
    "    )\n",
    "\n",
    "    offset_mapping = inputs.pop(\"offset_mapping\")\n",
    "    answers = examples[\"answers\"]\n",
    "    start_positions = []\n",
    "    end_positions = []\n",
    "\n",
    "    for i, offset in enumerate(offset_mapping):\n",
    "        answer = answers[i]\n",
    "        start_char = answer[\"answer_start\"][0]\n",
    "        end_char = answer[\"answer_start\"][0] + len(answer[\"text\"][0])\n",
    "        sequence_ids = inputs.sequence_ids(i)\n",
    "\n",
    "        # Find the start and end of the context\n",
    "        idx = 0\n",
    "        while sequence_ids[idx] != 1:\n",
    "            idx += 1\n",
    "        context_start = idx\n",
    "        while sequence_ids[idx] == 1:\n",
    "            idx += 1\n",
    "        context_end = idx - 1\n",
    "\n",
    "        # If the answer is not fully inside the context, label it (0, 0)\n",
    "        if offset[context_start][0] > end_char or offset[context_end][1] < start_char:\n",
    "            start_positions.append(0)\n",
    "            end_positions.append(0)\n",
    "        else:\n",
    "            # Otherwise it's the start and end token positions\n",
    "            idx = context_start\n",
    "            while idx <= context_end and offset[idx][0] <= start_char:\n",
    "                idx += 1\n",
    "            start_positions.append(idx - 1)\n",
    "\n",
    "            idx = context_end\n",
    "            while idx >= context_start and offset[idx][1] >= end_char:\n",
    "                idx -= 1\n",
    "            end_positions.append(idx + 1)\n",
    "\n",
    "    inputs[\"start_positions\"] = start_positions\n",
    "    inputs[\"end_positions\"] = end_positions\n",
    "    return inputs"
   ]
  },
  {
   "cell_type": "code",
   "execution_count": 5,
   "metadata": {},
   "outputs": [],
   "source": [
    "tokenized_squad = squad.map(preprocess_function, batched=True, \n",
    "                            remove_columns=squad[\"train\"].column_names)"
   ]
  },
  {
   "cell_type": "markdown",
   "metadata": {},
   "source": [
    "## Fine-tuning\n",
    "\n",
    "Training an LLM from scratch can be very slow and costly. Instead, one common practice in DL is to start from an already pre-trained model and start training from there (what we call fine-tuning). The code below shows the training configuration through HF: "
   ]
  },
  {
   "cell_type": "code",
   "execution_count": 6,
   "metadata": {},
   "outputs": [
    {
     "name": "stderr",
     "output_type": "stream",
     "text": [
      "c:\\Users\\xavia\\Projects\\llm-finetuning\\venv\\Lib\\site-packages\\transformers\\training_args.py:1559: FutureWarning: `evaluation_strategy` is deprecated and will be removed in version 4.46 of 🤗 Transformers. Use `eval_strategy` instead\n",
      "  warnings.warn(\n"
     ]
    }
   ],
   "source": [
    "training_args = TrainingArguments(\n",
    "    output_dir=\"./results\",\n",
    "    evaluation_strategy=\"steps\",\n",
    "    learning_rate=2e-5,\n",
    "    per_device_train_batch_size=16,\n",
    "    per_device_eval_batch_size=16,\n",
    "    num_train_epochs=3,\n",
    "    weight_decay=0.01,\n",
    "    logging_dir='./logs',\n",
    "    logging_steps=500,\n",
    "    report_to=\"tensorboard\", \n",
    "    save_steps=500,\n",
    "    save_total_limit=3,\n",
    "    load_best_model_at_end=True,\n",
    "    metric_for_best_model=\"eval_loss\",\n",
    "    greater_is_better=False,\n",
    ")"
   ]
  },
  {
   "cell_type": "code",
   "execution_count": null,
   "metadata": {},
   "outputs": [],
   "source": [
    "trainer = Trainer(\n",
    "    model=model,\n",
    "    args=training_args,\n",
    "    train_dataset=tokenized_squad[\"train\"],\n",
    "    eval_dataset=tokenized_squad[\"validation\"],\n",
    ")"
   ]
  },
  {
   "cell_type": "markdown",
   "metadata": {},
   "source": [
    "Right after it, it's possible to evaluate the initial model against the SQuAD's *validation* subset:"
   ]
  },
  {
   "cell_type": "code",
   "execution_count": 11,
   "metadata": {},
   "outputs": [
    {
     "name": "stderr",
     "output_type": "stream",
     "text": [
      "100%|██████████| 661/661 [00:28<00:00, 22.93it/s]\n"
     ]
    },
    {
     "data": {
      "text/plain": [
       "{'eval_loss': 5.8978590965271,\n",
       " 'eval_model_preparation_time': 0.001,\n",
       " 'eval_runtime': 29.405,\n",
       " 'eval_samples_per_second': 359.462,\n",
       " 'eval_steps_per_second': 22.479}"
      ]
     },
     "execution_count": 11,
     "metadata": {},
     "output_type": "execute_result"
    }
   ],
   "source": [
    "trainer.evaluate()"
   ]
  },
  {
   "cell_type": "markdown",
   "metadata": {},
   "source": [
    "After setting a baseline, let's start the QA model's fine-tuning.  \n",
    "**Note:** This step can take a significant amount of time depending on hardware specifications:"
   ]
  },
  {
   "cell_type": "code",
   "execution_count": null,
   "metadata": {},
   "outputs": [],
   "source": [
    "trainer.train()"
   ]
  },
  {
   "cell_type": "markdown",
   "metadata": {},
   "source": [
    "This training will create some output logs that can be read with TensorBoard. You can start TensorBoard with the following command:\n",
    "\n",
    "```bash\n",
    "tensorboard --logdir logs/\n",
    "```\n",
    "\n",
    "TensorBoard provides useful information in a visual way. For example, monitoring the train and eval losses while training can give information about the current's training state. For instance, if both losses are high and do not decrease over time, the model may be underfitting. On the other hand, if the train loss decreases but the eval one starts to increase, it might be overfitting. Depending on the scenario, the engineer might choose to look for more powerful architectures, more broad and representative data, or start with hyperparameter (HP) tuning. The most common one to tweak is the Learning Rate (LR): one too big might yield to quick improvements at the risk of reaching a loss plateau. On the other hand, a smaller one might make the training too slow. It's recommended to play with HP for the optimizers (e.g. Adam) or different strategies to get the best possible results"
   ]
  },
  {
   "cell_type": "markdown",
   "metadata": {},
   "source": [
    "If a model has already been fine-tuned, specify the checkpoint of your choice below to load it:"
   ]
  },
  {
   "cell_type": "code",
   "execution_count": 9,
   "metadata": {},
   "outputs": [],
   "source": [
    "best_checkpoint = \"./results/checkpoint-10000\"\n",
    "\n",
    "finetuned_model = DistilBertForQuestionAnswering.from_pretrained(best_checkpoint)\n",
    "tokenizer = DistilBertTokenizerFast.from_pretrained(\"distilbert-base-uncased\")"
   ]
  },
  {
   "cell_type": "markdown",
   "metadata": {},
   "source": [
    "## Evaluation comparison\n",
    "\n",
    "After having available both models, the pre-trained and the fine-tuned ones, let's make a more thorough evaluation comparison:"
   ]
  },
  {
   "cell_type": "code",
   "execution_count": 28,
   "metadata": {},
   "outputs": [
    {
     "name": "stderr",
     "output_type": "stream",
     "text": [
      "100%|██████████| 661/661 [00:29<00:00, 22.71it/s]\n"
     ]
    },
    {
     "data": {
      "text/plain": [
       "{'eval_loss': 5.956923484802246,\n",
       " 'eval_model_preparation_time': 0.001,\n",
       " 'eval_runtime': 29.3675,\n",
       " 'eval_samples_per_second': 359.922,\n",
       " 'eval_steps_per_second': 22.508}"
      ]
     },
     "execution_count": 28,
     "metadata": {},
     "output_type": "execute_result"
    }
   ],
   "source": [
    "# Baseline model evaluation\n",
    "trainer = Trainer(\n",
    "    model=model,\n",
    "    args=training_args,\n",
    "    train_dataset=tokenized_squad[\"train\"],\n",
    "    eval_dataset=tokenized_squad[\"validation\"],\n",
    ")\n",
    "\n",
    "trainer.evaluate()"
   ]
  },
  {
   "cell_type": "code",
   "execution_count": 29,
   "metadata": {},
   "outputs": [
    {
     "name": "stderr",
     "output_type": "stream",
     "text": [
      "100%|██████████| 661/661 [00:29<00:00, 22.56it/s]\n"
     ]
    },
    {
     "data": {
      "text/plain": [
       "{'eval_loss': 1.1106374263763428,\n",
       " 'eval_model_preparation_time': 0.001,\n",
       " 'eval_runtime': 29.3136,\n",
       " 'eval_samples_per_second': 360.584,\n",
       " 'eval_steps_per_second': 22.549}"
      ]
     },
     "execution_count": 29,
     "metadata": {},
     "output_type": "execute_result"
    }
   ],
   "source": [
    "# Fine-tuned model evaluation\n",
    "trainer = Trainer(\n",
    "    model=finetuned_model,\n",
    "    args=training_args,\n",
    "    train_dataset=tokenized_squad[\"train\"],\n",
    "    eval_dataset=tokenized_squad[\"validation\"],\n",
    ")\n",
    "\n",
    "trainer.evaluate()"
   ]
  },
  {
   "cell_type": "markdown",
   "metadata": {},
   "source": [
    "The evaluation loss difference (lower is better) already shows that the fine-tuned model is better than the baseline.  \n",
    "Furthermore, it's possible to make a more thorough analysis by generating the model's responses and performing an Error Analysis (EA). For that purpose, let's use the HF's *question answering pipeline*:"
   ]
  },
  {
   "cell_type": "code",
   "execution_count": 10,
   "metadata": {},
   "outputs": [
    {
     "name": "stderr",
     "output_type": "stream",
     "text": [
      "Some weights of DistilBertForQuestionAnswering were not initialized from the model checkpoint at distilbert-base-uncased and are newly initialized: ['qa_outputs.bias', 'qa_outputs.weight']\n",
      "You should probably TRAIN this model on a down-stream task to be able to use it for predictions and inference.\n",
      "Hardware accelerator e.g. GPU is available in the environment, but no `device` argument is passed to the `Pipeline` object. Model will be on CPU.\n",
      "Hardware accelerator e.g. GPU is available in the environment, but no `device` argument is passed to the `Pipeline` object. Model will be on CPU.\n"
     ]
    }
   ],
   "source": [
    "qa_pipeline = pipeline(\"question-answering\", \n",
    "                       model=\"distilbert-base-uncased\", \n",
    "                       tokenizer=tokenizer, \n",
    "                       batch_size=64)\n",
    "\n",
    "finetuned_qa_pipeline = pipeline(\"question-answering\", \n",
    "                                 model=finetuned_model, \n",
    "                                 tokenizer=tokenizer,\n",
    "                                 batch_size=64)"
   ]
  },
  {
   "cell_type": "markdown",
   "metadata": {},
   "source": [
    "Then, let's reuse the SQuAD's validation dataset to store the predicted answers and scores for both models:"
   ]
  },
  {
   "cell_type": "code",
   "execution_count": 12,
   "metadata": {},
   "outputs": [],
   "source": [
    "def get_prediction(example):\n",
    "    baseline_prediction = qa_pipeline(question=example[\"question\"], context=example[\"context\"])\n",
    "    finetuned_prediction = finetuned_qa_pipeline(question=example[\"question\"], context=example[\"context\"])\n",
    "    return {\n",
    "        \"baseline_prediction\": baseline_prediction[\"answer\"],\n",
    "        \"baseline_score\": baseline_prediction[\"score\"],\n",
    "        \"finetuned_prediction\": finetuned_prediction[\"answer\"],\n",
    "        \"finetuned_score\": finetuned_prediction[\"score\"],\n",
    "        \"ground_truth\": example[\"answers\"][\"text\"][0]\n",
    "    }"
   ]
  },
  {
   "cell_type": "code",
   "execution_count": 15,
   "metadata": {},
   "outputs": [
    {
     "name": "stderr",
     "output_type": "stream",
     "text": [
      "Map: 100%|██████████| 10570/10570 [13:55<00:00, 12.65 examples/s]\n"
     ]
    }
   ],
   "source": [
    "predictions = squad[\"validation\"].map(get_prediction, batch_size=64)"
   ]
  },
  {
   "cell_type": "markdown",
   "metadata": {},
   "source": [
    "With this data at hand, let's use the *HF's evaluate* library to check more evaluation metrics:"
   ]
  },
  {
   "cell_type": "code",
   "execution_count": 7,
   "metadata": {},
   "outputs": [],
   "source": [
    "metric = evaluate.load(\"squad\")\n"
   ]
  },
  {
   "cell_type": "markdown",
   "metadata": {},
   "source": [
    "The SQuAD metric is expecting a list of dictionaries containing:\n",
    "* **id:** ID of the sample.\n",
    "* **answers:** Predicted answer or list of ground truth answers."
   ]
  },
  {
   "cell_type": "code",
   "execution_count": 73,
   "metadata": {},
   "outputs": [],
   "source": [
    "baseline_predicted_answers = [{\"id\": pred[\"id\"],\n",
    "                               \"prediction_text\": pred[\"baseline_prediction\"]}\n",
    "                               for pred in predictions]\n",
    "finetuned_predicted_answers = [{\"id\": pred[\"id\"],\n",
    "                                \"prediction_text\": pred[\"finetuned_prediction\"]}\n",
    "                                for pred in predictions]\n",
    "theoretical_answers = [\n",
    "    {\"id\": ex[\"id\"], \"answers\": ex[\"answers\"]} for ex in predictions\n",
    "]"
   ]
  },
  {
   "cell_type": "code",
   "execution_count": 74,
   "metadata": {},
   "outputs": [
    {
     "data": {
      "text/plain": [
       "{'exact_match': 0.8609271523178808, 'f1': 7.889010128219963}"
      ]
     },
     "execution_count": 74,
     "metadata": {},
     "output_type": "execute_result"
    }
   ],
   "source": [
    "# Baseline model's evaluation metrics\n",
    "metric.compute(predictions=baseline_predicted_answers, references=theoretical_answers)"
   ]
  },
  {
   "cell_type": "code",
   "execution_count": 75,
   "metadata": {},
   "outputs": [
    {
     "data": {
      "text/plain": [
       "{'exact_match': 76.59413434247871, 'f1': 84.8074232750765}"
      ]
     },
     "execution_count": 75,
     "metadata": {},
     "output_type": "execute_result"
    }
   ],
   "source": [
    "# Fine-tuned model's evaluation metrics\n",
    "metric.compute(predictions=finetuned_predicted_answers, references=theoretical_answers)"
   ]
  },
  {
   "cell_type": "markdown",
   "metadata": {},
   "source": [
    "Here, it's even more clear that the fine-tuned model is way superior than the baseline. The exact matches indicates the cases where the predictions matched precisely the ground truth answer.  \n",
    "On the other hand, the F1-score is the harmonic mean of the Precision and the Recall, which can be calculated with:\n",
    "* True Positive: Number of shared tokens between the prediction and the correct answer.\n",
    "* False Positive: Number of tokens in the predicted sequence, excluding the shared tokens.\n",
    "* False Negative: Number of tokens in the correct answer, excluding the shared tokens.  \n",
    "In case more specific, sample level metrics are required, it's possible to write custom functions. One possible addition is the Levenshtein distance, which measures the amount of changes needed in one string to become a reference one (less is better)."
   ]
  },
  {
   "cell_type": "code",
   "execution_count": 17,
   "metadata": {},
   "outputs": [],
   "source": [
    "def compute_exact_match(prediction, ground_truth):\n",
    "    return int(prediction == ground_truth)\n",
    "\n",
    "def compute_f1(prediction, ground_truth):\n",
    "    pred_tokens = prediction.split()\n",
    "    gt_tokens = ground_truth.split()\n",
    "    common_tokens = set(pred_tokens) & set(gt_tokens)\n",
    "    if len(common_tokens) == 0:\n",
    "        return 0.0\n",
    "    precision = len(common_tokens) / len(pred_tokens)\n",
    "    recall = len(common_tokens) / len(gt_tokens)\n",
    "    f1 = 2 * (precision * recall) / (precision + recall)\n",
    "    return f1"
   ]
  },
  {
   "cell_type": "code",
   "execution_count": 20,
   "metadata": {},
   "outputs": [],
   "source": [
    "def get_eval_metrics(prediction):\n",
    "    baseline_exact_match = compute_exact_match(prediction[\"baseline_prediction\"], prediction[\"answers\"][\"text\"][0])\n",
    "    baseline_f1 = compute_f1(prediction[\"baseline_prediction\"], prediction[\"answers\"][\"text\"][0])\n",
    "    baseline_lev = Levenshtein.distance(prediction[\"baseline_prediction\"], prediction[\"answers\"][\"text\"][0])\n",
    "    finetuned_exact_match = compute_exact_match(prediction[\"finetuned_prediction\"], prediction[\"answers\"][\"text\"][0])\n",
    "    finetuned_f1 = compute_f1(prediction[\"finetuned_prediction\"], prediction[\"answers\"][\"text\"][0])\n",
    "    finetuned_lev = Levenshtein.distance(prediction[\"finetuned_prediction\"], prediction[\"answers\"][\"text\"][0])\n",
    "    return {\n",
    "        \"baseline_exact_match\": baseline_exact_match,\n",
    "        \"baseline_f1\": baseline_f1, \n",
    "        \"baseline_lev\": baseline_lev, \n",
    "        \"finetuned_exact_match\": finetuned_exact_match, \n",
    "        \"finetuned_f1\": finetuned_f1, \n",
    "        \"finetuned_lev\": finetuned_lev, \n",
    "    }"
   ]
  },
  {
   "cell_type": "code",
   "execution_count": 21,
   "metadata": {},
   "outputs": [
    {
     "name": "stderr",
     "output_type": "stream",
     "text": [
      "Map: 100%|██████████| 10570/10570 [00:00<00:00, 12477.97 examples/s]\n"
     ]
    }
   ],
   "source": [
    "predictions_with_metrics = predictions.map(get_eval_metrics, batch_size=64)"
   ]
  },
  {
   "cell_type": "markdown",
   "metadata": {},
   "source": [
    "**Optional:** Save the new dataset with all predictions and metrics to avoid recalculating everything:"
   ]
  },
  {
   "cell_type": "code",
   "execution_count": 24,
   "metadata": {},
   "outputs": [
    {
     "name": "stderr",
     "output_type": "stream",
     "text": [
      "Saving the dataset (1/1 shards): 100%|██████████| 10570/10570 [00:00<00:00, 704605.74 examples/s]\n"
     ]
    }
   ],
   "source": [
    "predictions_with_metrics.save_to_disk(\"./predictions_with_metrics\")"
   ]
  },
  {
   "cell_type": "markdown",
   "metadata": {},
   "source": [
    "Finally, by converting the *HF dataset* into pandas, we gain more control about the data and how to analyze it:"
   ]
  },
  {
   "cell_type": "code",
   "execution_count": 25,
   "metadata": {},
   "outputs": [],
   "source": [
    "df = predictions_with_metrics.to_pandas()"
   ]
  },
  {
   "cell_type": "code",
   "execution_count": 26,
   "metadata": {},
   "outputs": [
    {
     "data": {
      "text/html": [
       "<div>\n",
       "<style scoped>\n",
       "    .dataframe tbody tr th:only-of-type {\n",
       "        vertical-align: middle;\n",
       "    }\n",
       "\n",
       "    .dataframe tbody tr th {\n",
       "        vertical-align: top;\n",
       "    }\n",
       "\n",
       "    .dataframe thead th {\n",
       "        text-align: right;\n",
       "    }\n",
       "</style>\n",
       "<table border=\"1\" class=\"dataframe\">\n",
       "  <thead>\n",
       "    <tr style=\"text-align: right;\">\n",
       "      <th></th>\n",
       "      <th>baseline_score</th>\n",
       "      <th>finetuned_score</th>\n",
       "      <th>baseline_exact_match</th>\n",
       "      <th>baseline_f1</th>\n",
       "      <th>baseline_lev</th>\n",
       "      <th>finetuned_exact_match</th>\n",
       "      <th>finetuned_f1</th>\n",
       "      <th>finetuned_lev</th>\n",
       "    </tr>\n",
       "  </thead>\n",
       "  <tbody>\n",
       "    <tr>\n",
       "      <th>count</th>\n",
       "      <td>10570.000000</td>\n",
       "      <td>10570.000000</td>\n",
       "      <td>10570.0</td>\n",
       "      <td>10570.000000</td>\n",
       "      <td>10570.000000</td>\n",
       "      <td>10570.000000</td>\n",
       "      <td>10570.000000</td>\n",
       "      <td>10570.000000</td>\n",
       "    </tr>\n",
       "    <tr>\n",
       "      <th>mean</th>\n",
       "      <td>0.000162</td>\n",
       "      <td>0.572211</td>\n",
       "      <td>0.0</td>\n",
       "      <td>0.043122</td>\n",
       "      <td>39.037370</td>\n",
       "      <td>0.571239</td>\n",
       "      <td>0.747881</td>\n",
       "      <td>8.341343</td>\n",
       "    </tr>\n",
       "    <tr>\n",
       "      <th>std</th>\n",
       "      <td>0.000219</td>\n",
       "      <td>0.293062</td>\n",
       "      <td>0.0</td>\n",
       "      <td>0.113308</td>\n",
       "      <td>19.240878</td>\n",
       "      <td>0.494922</td>\n",
       "      <td>0.360389</td>\n",
       "      <td>16.390617</td>\n",
       "    </tr>\n",
       "    <tr>\n",
       "      <th>min</th>\n",
       "      <td>0.000018</td>\n",
       "      <td>0.006408</td>\n",
       "      <td>0.0</td>\n",
       "      <td>0.000000</td>\n",
       "      <td>1.000000</td>\n",
       "      <td>0.000000</td>\n",
       "      <td>0.000000</td>\n",
       "      <td>0.000000</td>\n",
       "    </tr>\n",
       "    <tr>\n",
       "      <th>25%</th>\n",
       "      <td>0.000070</td>\n",
       "      <td>0.325124</td>\n",
       "      <td>0.0</td>\n",
       "      <td>0.000000</td>\n",
       "      <td>24.000000</td>\n",
       "      <td>0.000000</td>\n",
       "      <td>0.571429</td>\n",
       "      <td>0.000000</td>\n",
       "    </tr>\n",
       "    <tr>\n",
       "      <th>50%</th>\n",
       "      <td>0.000112</td>\n",
       "      <td>0.578012</td>\n",
       "      <td>0.0</td>\n",
       "      <td>0.000000</td>\n",
       "      <td>37.000000</td>\n",
       "      <td>1.000000</td>\n",
       "      <td>1.000000</td>\n",
       "      <td>0.000000</td>\n",
       "    </tr>\n",
       "    <tr>\n",
       "      <th>75%</th>\n",
       "      <td>0.000172</td>\n",
       "      <td>0.849143</td>\n",
       "      <td>0.0</td>\n",
       "      <td>0.000000</td>\n",
       "      <td>52.000000</td>\n",
       "      <td>1.000000</td>\n",
       "      <td>1.000000</td>\n",
       "      <td>10.000000</td>\n",
       "    </tr>\n",
       "    <tr>\n",
       "      <th>max</th>\n",
       "      <td>0.002750</td>\n",
       "      <td>0.999911</td>\n",
       "      <td>0.0</td>\n",
       "      <td>0.923077</td>\n",
       "      <td>145.000000</td>\n",
       "      <td>1.000000</td>\n",
       "      <td>1.000000</td>\n",
       "      <td>152.000000</td>\n",
       "    </tr>\n",
       "  </tbody>\n",
       "</table>\n",
       "</div>"
      ],
      "text/plain": [
       "       baseline_score  finetuned_score  baseline_exact_match   baseline_f1  \\\n",
       "count    10570.000000     10570.000000               10570.0  10570.000000   \n",
       "mean         0.000162         0.572211                   0.0      0.043122   \n",
       "std          0.000219         0.293062                   0.0      0.113308   \n",
       "min          0.000018         0.006408                   0.0      0.000000   \n",
       "25%          0.000070         0.325124                   0.0      0.000000   \n",
       "50%          0.000112         0.578012                   0.0      0.000000   \n",
       "75%          0.000172         0.849143                   0.0      0.000000   \n",
       "max          0.002750         0.999911                   0.0      0.923077   \n",
       "\n",
       "       baseline_lev  finetuned_exact_match  finetuned_f1  finetuned_lev  \n",
       "count  10570.000000           10570.000000  10570.000000   10570.000000  \n",
       "mean      39.037370               0.571239      0.747881       8.341343  \n",
       "std       19.240878               0.494922      0.360389      16.390617  \n",
       "min        1.000000               0.000000      0.000000       0.000000  \n",
       "25%       24.000000               0.000000      0.571429       0.000000  \n",
       "50%       37.000000               1.000000      1.000000       0.000000  \n",
       "75%       52.000000               1.000000      1.000000      10.000000  \n",
       "max      145.000000               1.000000      1.000000     152.000000  "
      ]
     },
     "execution_count": 26,
     "metadata": {},
     "output_type": "execute_result"
    }
   ],
   "source": [
    "df.describe()"
   ]
  },
  {
   "cell_type": "code",
   "execution_count": 36,
   "metadata": {},
   "outputs": [
    {
     "data": {
      "text/html": [
       "<div>\n",
       "<style scoped>\n",
       "    .dataframe tbody tr th:only-of-type {\n",
       "        vertical-align: middle;\n",
       "    }\n",
       "\n",
       "    .dataframe tbody tr th {\n",
       "        vertical-align: top;\n",
       "    }\n",
       "\n",
       "    .dataframe thead th {\n",
       "        text-align: right;\n",
       "    }\n",
       "</style>\n",
       "<table border=\"1\" class=\"dataframe\">\n",
       "  <thead>\n",
       "    <tr style=\"text-align: right;\">\n",
       "      <th></th>\n",
       "      <th>title</th>\n",
       "      <th>question</th>\n",
       "      <th>context</th>\n",
       "      <th>baseline_prediction</th>\n",
       "      <th>finetuned_prediction</th>\n",
       "      <th>ground_truth</th>\n",
       "      <th>baseline_score</th>\n",
       "      <th>finetuned_score</th>\n",
       "    </tr>\n",
       "  </thead>\n",
       "  <tbody>\n",
       "    <tr>\n",
       "      <th>7514</th>\n",
       "      <td>Economic_inequality</td>\n",
       "      <td>What nationality are researchers Richard G. Wi...</td>\n",
       "      <td>British researchers Richard G. Wilkinson and K...</td>\n",
       "      <td>conflict, drug use), and lower rates of social...</td>\n",
       "      <td>British</td>\n",
       "      <td>British</td>\n",
       "      <td>0.000105</td>\n",
       "      <td>0.999911</td>\n",
       "    </tr>\n",
       "    <tr>\n",
       "      <th>7500</th>\n",
       "      <td>Economic_inequality</td>\n",
       "      <td>What career does Joseph Stiglitz have?</td>\n",
       "      <td>Economist Joseph Stiglitz argues that rather t...</td>\n",
       "      <td>., it will also prevent</td>\n",
       "      <td>Economist</td>\n",
       "      <td>Economist</td>\n",
       "      <td>0.000072</td>\n",
       "      <td>0.999878</td>\n",
       "    </tr>\n",
       "    <tr>\n",
       "      <th>9997</th>\n",
       "      <td>Imperialism</td>\n",
       "      <td>What was the capital of the Ottoman empire?</td>\n",
       "      <td>With Istanbul as its capital and control of la...</td>\n",
       "      <td>, thus</td>\n",
       "      <td>Istanbul</td>\n",
       "      <td>Istanbul</td>\n",
       "      <td>0.000153</td>\n",
       "      <td>0.999876</td>\n",
       "    </tr>\n",
       "    <tr>\n",
       "      <th>7476</th>\n",
       "      <td>Economic_inequality</td>\n",
       "      <td>What profession does Simon Kuznets have?</td>\n",
       "      <td>Economist Simon Kuznets argued that levels of ...</td>\n",
       "      <td>. According to Kuznets, countries with low lev...</td>\n",
       "      <td>Economist</td>\n",
       "      <td>Economist</td>\n",
       "      <td>0.000243</td>\n",
       "      <td>0.999874</td>\n",
       "    </tr>\n",
       "    <tr>\n",
       "      <th>3830</th>\n",
       "      <td>Apollo_program</td>\n",
       "      <td>In what year did the Apollo 1 cabin fire occur?</td>\n",
       "      <td>The Apollo program succeeded in achieving its ...</td>\n",
       "      <td>. Budget cuts forced the cancellation of three...</td>\n",
       "      <td>1967</td>\n",
       "      <td>1967</td>\n",
       "      <td>0.000129</td>\n",
       "      <td>0.999668</td>\n",
       "    </tr>\n",
       "    <tr>\n",
       "      <th>7509</th>\n",
       "      <td>Economic_inequality</td>\n",
       "      <td>What year did Robert J. Shiller win an Economi...</td>\n",
       "      <td>2013 Economics Nobel prize winner Robert J. Sh...</td>\n",
       "      <td>, and erodes</td>\n",
       "      <td>2013</td>\n",
       "      <td>2013</td>\n",
       "      <td>0.000117</td>\n",
       "      <td>0.999642</td>\n",
       "    </tr>\n",
       "    <tr>\n",
       "      <th>3002</th>\n",
       "      <td>Victoria_(Australia)</td>\n",
       "      <td>What state in Australia is the center of dairy...</td>\n",
       "      <td>Victoria is the centre of dairy farming in Aus...</td>\n",
       "      <td>. In 2003–04, Victorian commercial fishing cre...</td>\n",
       "      <td>Victoria</td>\n",
       "      <td>Victoria</td>\n",
       "      <td>0.000144</td>\n",
       "      <td>0.999574</td>\n",
       "    </tr>\n",
       "    <tr>\n",
       "      <th>5683</th>\n",
       "      <td>Victoria_and_Albert_Museum</td>\n",
       "      <td>In which year was the The Forest tapestry crea...</td>\n",
       "      <td>One of the earliest surviving examples of Euro...</td>\n",
       "      <td>, as well as pattern books and paper</td>\n",
       "      <td>1887</td>\n",
       "      <td>1887</td>\n",
       "      <td>0.000188</td>\n",
       "      <td>0.999562</td>\n",
       "    </tr>\n",
       "    <tr>\n",
       "      <th>4798</th>\n",
       "      <td>Fresno,_California</td>\n",
       "      <td>Which is the largest city not connected to an ...</td>\n",
       "      <td>Fresno is the largest U.S. city not directly l...</td>\n",
       "      <td>, much discussion has been made to upgrade it ...</td>\n",
       "      <td>Fresno</td>\n",
       "      <td>Fresno</td>\n",
       "      <td>0.000123</td>\n",
       "      <td>0.999516</td>\n",
       "    </tr>\n",
       "    <tr>\n",
       "      <th>7577</th>\n",
       "      <td>Economic_inequality</td>\n",
       "      <td>What's Thomas Piketty's job?</td>\n",
       "      <td>Studies on income inequality and growth have s...</td>\n",
       "      <td>, which states that with economic development,...</td>\n",
       "      <td>Economist</td>\n",
       "      <td>Economist</td>\n",
       "      <td>0.000193</td>\n",
       "      <td>0.999464</td>\n",
       "    </tr>\n",
       "  </tbody>\n",
       "</table>\n",
       "</div>"
      ],
      "text/plain": [
       "                           title  \\\n",
       "7514         Economic_inequality   \n",
       "7500         Economic_inequality   \n",
       "9997                 Imperialism   \n",
       "7476         Economic_inequality   \n",
       "3830              Apollo_program   \n",
       "7509         Economic_inequality   \n",
       "3002        Victoria_(Australia)   \n",
       "5683  Victoria_and_Albert_Museum   \n",
       "4798          Fresno,_California   \n",
       "7577         Economic_inequality   \n",
       "\n",
       "                                               question  \\\n",
       "7514  What nationality are researchers Richard G. Wi...   \n",
       "7500             What career does Joseph Stiglitz have?   \n",
       "9997        What was the capital of the Ottoman empire?   \n",
       "7476           What profession does Simon Kuznets have?   \n",
       "3830    In what year did the Apollo 1 cabin fire occur?   \n",
       "7509  What year did Robert J. Shiller win an Economi...   \n",
       "3002  What state in Australia is the center of dairy...   \n",
       "5683  In which year was the The Forest tapestry crea...   \n",
       "4798  Which is the largest city not connected to an ...   \n",
       "7577                       What's Thomas Piketty's job?   \n",
       "\n",
       "                                                context  \\\n",
       "7514  British researchers Richard G. Wilkinson and K...   \n",
       "7500  Economist Joseph Stiglitz argues that rather t...   \n",
       "9997  With Istanbul as its capital and control of la...   \n",
       "7476  Economist Simon Kuznets argued that levels of ...   \n",
       "3830  The Apollo program succeeded in achieving its ...   \n",
       "7509  2013 Economics Nobel prize winner Robert J. Sh...   \n",
       "3002  Victoria is the centre of dairy farming in Aus...   \n",
       "5683  One of the earliest surviving examples of Euro...   \n",
       "4798  Fresno is the largest U.S. city not directly l...   \n",
       "7577  Studies on income inequality and growth have s...   \n",
       "\n",
       "                                    baseline_prediction finetuned_prediction  \\\n",
       "7514  conflict, drug use), and lower rates of social...              British   \n",
       "7500                            ., it will also prevent            Economist   \n",
       "9997                                             , thus             Istanbul   \n",
       "7476  . According to Kuznets, countries with low lev...            Economist   \n",
       "3830  . Budget cuts forced the cancellation of three...                 1967   \n",
       "7509                                       , and erodes                 2013   \n",
       "3002  . In 2003–04, Victorian commercial fishing cre...             Victoria   \n",
       "5683               , as well as pattern books and paper                 1887   \n",
       "4798  , much discussion has been made to upgrade it ...               Fresno   \n",
       "7577  , which states that with economic development,...            Economist   \n",
       "\n",
       "     ground_truth  baseline_score  finetuned_score  \n",
       "7514      British        0.000105         0.999911  \n",
       "7500    Economist        0.000072         0.999878  \n",
       "9997     Istanbul        0.000153         0.999876  \n",
       "7476    Economist        0.000243         0.999874  \n",
       "3830         1967        0.000129         0.999668  \n",
       "7509         2013        0.000117         0.999642  \n",
       "3002     Victoria        0.000144         0.999574  \n",
       "5683         1887        0.000188         0.999562  \n",
       "4798       Fresno        0.000123         0.999516  \n",
       "7577    Economist        0.000193         0.999464  "
      ]
     },
     "execution_count": 36,
     "metadata": {},
     "output_type": "execute_result"
    }
   ],
   "source": [
    "df.sort_values(\"finetuned_score\", ascending=False).head(10) \\\n",
    "    [[\"title\", \"question\", \"context\", \"baseline_prediction\", \"finetuned_prediction\", \"ground_truth\", \"baseline_score\", \"finetuned_score\"]]"
   ]
  },
  {
   "cell_type": "markdown",
   "metadata": {},
   "source": [
    "From now on, the analysis can become as long and precise as desired. The best performing answers seem to be related with *Economic_inequality*, although the poor performance of the baseline model doesn't make any particular category stand out since all of them are way better after some fine-tuning.  \n",
    "For instance, let's plot the Levenshtein distance of the baseline model's predictions wrt fine-tuned ones: "
   ]
  },
  {
   "cell_type": "code",
   "execution_count": 30,
   "metadata": {},
   "outputs": [
    {
     "data": {
      "text/plain": [
       "<Axes: >"
      ]
     },
     "execution_count": 30,
     "metadata": {},
     "output_type": "execute_result"
    },
    {
     "data": {
      "image/png": "[encoded data removed]",
      "text/plain": [
       "<Figure size 640x480 with 1 Axes>"
      ]
     },
     "metadata": {},
     "output_type": "display_data"
    }
   ],
   "source": [
    "df[[\"baseline_lev\", \"finetuned_lev\"]].plot()"
   ]
  },
  {
   "cell_type": "markdown",
   "metadata": {},
   "source": [
    "It stands out that the baseline one is worse for almost every example."
   ]
  },
  {
   "cell_type": "markdown",
   "metadata": {},
   "source": [
    "# Summary\n",
    "\n",
    "The notebook covered this points:\n",
    "* General Question Answering considerations and problem definition.\n",
    "* Model selection: DistilBert as a relatively lightweight model for fine-tuning convenience.\n",
    "* Model fine-tuning: Use of HF Trainer to fine-tune the model, plus HP tuning, TensorBoard logging and monitoring, etc.\n",
    "* Evaluation comparison: Use of HF Evaluate to compare results for both baseline and fine-tuned models, showing that the fine-tuned one clearly outperforms the initial one."
   ]
  },
  {
   "cell_type": "markdown",
   "metadata": {},
   "source": [
    "# References\n",
    "\n",
    "* https://huggingface.co/docs/transformers/tasks/question_answering\n",
    "* https://huggingface.co/learn/nlp-course/chapter7/7"
   ]
  }
 ],
 "metadata": {
  "kernelspec": {
   "display_name": "venv",
   "language": "python",
   "name": "python3"
  },
  "language_info": {
   "codemirror_mode": {
    "name": "ipython",
    "version": 3
   },
   "file_extension": ".py",
   "mimetype": "text/x-python",
   "name": "python",
   "nbconvert_exporter": "python",
   "pygments_lexer": "ipython3",
   "version": "3.11.4"
  }
 },
 "nbformat": 4,
 "nbformat_minor": 2
}
